{
 "cells": [
  {
   "cell_type": "markdown",
   "metadata": {
    "tags": [
     "jinja"
    ]
   },
   "source": [
    "This is a markrdown cell with the following custom text:\n",
    "{{custom_text}}"
   ]
  },
  {
   "cell_type": "markdown",
   "metadata": {},
   "source": [
    "This cell is not tagged with jinja {{nothing_happens_here}}"
   ]
  },
  {
   "cell_type": "code",
   "execution_count": null,
   "metadata": {
    "tags": [
     "jinja"
    ]
   },
   "outputs": [],
   "source": [
    "## This is a code cell with a custom variable definition\n",
    "x = {{x}}\n",
    "\n",
    "print(x)"
   ]
  }
 ],
 "metadata": {
  "kernelspec": {
   "display_name": "Python 3",
   "language": "python",
   "name": "python3"
  },
  "language_info": {
   "codemirror_mode": {
    "name": "ipython",
    "version": 3
   },
   "file_extension": ".py",
   "mimetype": "text/x-python",
   "name": "python",
   "nbconvert_exporter": "python",
   "pygments_lexer": "ipython3",
   "version": "3.6.1"
  }
 },
 "nbformat": 4,
 "nbformat_minor": 2
}
