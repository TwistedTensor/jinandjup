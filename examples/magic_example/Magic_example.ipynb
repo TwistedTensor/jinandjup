{
 "cells": [
  {
   "cell_type": "code",
   "execution_count": 2,
   "metadata": {},
   "outputs": [],
   "source": [
    "%load_ext jinandjup"
   ]
  },
  {
   "cell_type": "code",
   "execution_count": 4,
   "metadata": {},
   "outputs": [
    {
     "name": "stdout",
     "output_type": "stream",
     "text": [
      "------------CODE--------------\n",
      "print('\"hello there\"')\n",
      "print(3+5)\n",
      "------------------------------\n",
      "\"hello there\"\n",
      "8\n"
     ]
    }
   ],
   "source": [
    "%%jinandjup {'s':'\"hello there\"','n':'5'}\n",
    "print('{{s}}')\n",
    "print(3+{{n}})"
   ]
  },
  {
   "cell_type": "code",
   "execution_count": 3,
   "metadata": {},
   "outputs": [
    {
     "name": "stdout",
     "output_type": "stream",
     "text": [
      "------------CODE--------------\n",
      "model = 'default'\n",
      "print(model)\n",
      "print(\"hello there\"+' again')\n",
      "------------------------------\n",
      "default\n",
      "hello there again\n"
     ]
    }
   ],
   "source": [
    "%%jinandjup {'modeltype':'\"gbdt\"'}\n",
    "{% if modeltype=='gbdt'%}model = 'gbdtmodel'\n",
    "{% elif modeltype=='lg' %}model = 'logistic regression'\n",
    "{% else %}model = 'default'\n",
    "{% endif %}print(model)\n",
    "print({{s}}+' again')"
   ]
  },
  {
   "cell_type": "code",
   "execution_count": 4,
   "metadata": {},
   "outputs": [
    {
     "name": "stdout",
     "output_type": "stream",
     "text": [
      "s = \"hello there\"\n",
      "op = 3\n",
      "modeltype = \"gbdt\"\n"
     ]
    }
   ],
   "source": [
    "%jinandjup"
   ]
  },
  {
   "cell_type": "code",
   "execution_count": null,
   "metadata": {},
   "outputs": [],
   "source": []
  }
 ],
 "metadata": {
  "kernelspec": {
   "display_name": "Python 3",
   "language": "python",
   "name": "python3"
  },
  "language_info": {
   "codemirror_mode": {
    "name": "ipython",
    "version": 3
   },
   "file_extension": ".py",
   "mimetype": "text/x-python",
   "name": "python",
   "nbconvert_exporter": "python",
   "pygments_lexer": "ipython3",
   "version": "3.6.1"
  }
 },
 "nbformat": 4,
 "nbformat_minor": 2
}
