{
 "cells": [
  {
   "cell_type": "code",
   "execution_count": 5,
   "metadata": {},
   "outputs": [
    {
     "name": "stdout",
     "output_type": "stream",
     "text": [
      "The jinandjup extension is already loaded. To reload it, use:\n",
      "  %reload_ext jinandjup\n"
     ]
    }
   ],
   "source": [
    "%load_ext jinandjup"
   ]
  },
  {
   "cell_type": "code",
   "execution_count": 3,
   "metadata": {},
   "outputs": [
    {
     "name": "stdout",
     "output_type": "stream",
     "text": [
      "------------CODE--------------\n",
      "print('\"hello there\"')\n",
      "print(335)\n",
      "------------------------------\n",
      "\"hello there\"\n",
      "335\n"
     ]
    }
   ],
   "source": [
    "%%jinandjup {'s':'\"hello there\"','op':'3'}\n",
    "print('{{s}}')\n",
    "print(3{{op}}5)"
   ]
  },
  {
   "cell_type": "code",
   "execution_count": 6,
   "metadata": {},
   "outputs": [
    {
     "name": "stdout",
     "output_type": "stream",
     "text": [
      "------------CODE--------------\n",
      "\n",
      "model = 'default'\n",
      "\n",
      "print(model)\n",
      "------------------------------\n",
      "default\n"
     ]
    }
   ],
   "source": [
    "%%jinandjup {'modeltype':'\"gbdt\"'}\n",
    "{% if modeltype=='gbdt'%}\n",
    "model = 'gbdtmodel'\n",
    "{% elif modeltype=='lg' %}\n",
    "model = 'logistic regression'\n",
    "{% else %}\n",
    "model = 'default'\n",
    "{% endif %}\n",
    "print(model)"
   ]
  }
 ],
 "metadata": {
  "kernelspec": {
   "display_name": "Python 3",
   "language": "python",
   "name": "python3"
  },
  "language_info": {
   "codemirror_mode": {
    "name": "ipython",
    "version": 3
   },
   "file_extension": ".py",
   "mimetype": "text/x-python",
   "name": "python",
   "nbconvert_exporter": "python",
   "pygments_lexer": "ipython3",
   "version": "3.6.1"
  }
 },
 "nbformat": 4,
 "nbformat_minor": 2
}
